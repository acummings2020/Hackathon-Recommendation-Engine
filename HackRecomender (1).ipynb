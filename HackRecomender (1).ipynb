{
 "cells": [
  {
   "cell_type": "code",
   "execution_count": 193,
   "id": "going-series",
   "metadata": {},
   "outputs": [],
   "source": [
    "import numpy as np\n",
    "import pandas as pd\n",
    "from typing import List, Tuple\n",
    "from collections import Counter,defaultdict\n",
    "import scipy as sp"
   ]
  },
  {
   "cell_type": "code",
   "execution_count": 116,
   "id": "ranking-cuisine",
   "metadata": {},
   "outputs": [],
   "source": [
    "popular_interests=Counter(interest\n",
    "                         for user_interests1 in users_interests\n",
    "                         for interest in user_interests1)\n",
    "unique_interests=sorted({interest\n",
    "                        for user_interests1 in users_interests\n",
    "                        for interest in user_interests1})"
   ]
  },
  {
   "cell_type": "code",
   "execution_count": 117,
   "id": "romantic-culture",
   "metadata": {},
   "outputs": [
    {
     "data": {
      "text/plain": [
       "['appliances',\n",
       " 'bicycles',\n",
       " 'fans',\n",
       " 'fridges',\n",
       " 'hats',\n",
       " 'laptops',\n",
       " 'posters',\n",
       " 'shirts',\n",
       " 'shoes',\n",
       " 'skateboards',\n",
       " 'sports equipment',\n",
       " 'textbooks',\n",
       " 'toiletries',\n",
       " 'video games']"
      ]
     },
     "execution_count": 117,
     "metadata": {},
     "output_type": "execute_result"
    }
   ],
   "source": [
    "unique_interests"
   ]
  },
  {
   "cell_type": "code",
   "execution_count": 118,
   "id": "developmental-mercy",
   "metadata": {},
   "outputs": [
    {
     "data": {
      "text/plain": [
       "Counter({'bicycles': 4,\n",
       "         'hats': 7,\n",
       "         'shoes': 9,\n",
       "         'shirts': 5,\n",
       "         'fridges': 2,\n",
       "         'video games': 3,\n",
       "         'laptops': 4,\n",
       "         'textbooks': 5,\n",
       "         'sports equipment': 2,\n",
       "         'posters': 2,\n",
       "         'skateboards': 2,\n",
       "         'fans': 1,\n",
       "         'appliances': 3,\n",
       "         'toiletries': 1})"
      ]
     },
     "execution_count": 118,
     "metadata": {},
     "output_type": "execute_result"
    }
   ],
   "source": [
    "popular_interests"
   ]
  },
  {
   "cell_type": "code",
   "execution_count": 115,
   "id": "cutting-consistency",
   "metadata": {},
   "outputs": [],
   "source": [
    "users_interests=[[\"bicycles\",\"hats\",\"shoes\",\"shirts\"],\n",
    "               [\"fridges\",\"video games\",\"shoes\",\"laptops\",\"textbooks\"],\n",
    "               [\"fridges\",\"hats\",\"shoes\",\"laptops\",\"textbooks\"],\n",
    "               [\"sports equipment\",\"video games\",\"shoes\",\"hats\",\"posters\",\"skateboards\"],\n",
    "               [\"sports equipment\",\"hats\",\"shoes\",\"laptops\",\"fans\"],\n",
    "               [\"bicycles\",\"hats\",\"appliances\",\"shirts\",\"appliances\",\"textbooks\"],\n",
    "               [\"bicycles\",\"hats\",\"shoes\",\"laptops\",\"textbooks\"],\n",
    "               [\"bicycles\",\"shirts\",\"shoes\",\"posters\"],\n",
    "               [\"video games\",\"shirts\",\"shoes\",\"textbooks\",\"skateboards\"],\n",
    "               [\"toiletries\",\"hats\",\"shoes\",\"appliances\",\"shirts\"]]"
   ]
  },
  {
   "cell_type": "code",
   "execution_count": 120,
   "id": "cleared-trunk",
   "metadata": {},
   "outputs": [],
   "source": [
    "def make_user_interests_vector(user_interests1: List[str])->List[int]:\n",
    "    \"\"\"\n",
    "    Given a list of interests, produce a vector whose ith element is 1 if \n",
    "    unique interests[i] is in list, 0 otherwise\n",
    "    \"\"\"\n",
    "    return [1 if interest in user_interests1 else 0\n",
    "           for interest in unique_interests]"
   ]
  },
  {
   "cell_type": "code",
   "execution_count": 122,
   "id": "elect-backing",
   "metadata": {},
   "outputs": [],
   "source": [
    "user_interest_vectors=[make_user_interests_vector(user_interests1)\n",
    "                      for user_interests1 in users_interests]"
   ]
  },
  {
   "cell_type": "code",
   "execution_count": 123,
   "id": "polish-gothic",
   "metadata": {},
   "outputs": [
    {
     "data": {
      "text/plain": [
       "[[0, 1, 0, 0, 1, 0, 0, 1, 1, 0, 0, 0, 0, 0],\n",
       " [0, 0, 0, 1, 0, 1, 0, 0, 1, 0, 0, 1, 0, 1],\n",
       " [0, 0, 0, 1, 1, 1, 0, 0, 1, 0, 0, 1, 0, 0],\n",
       " [0, 0, 0, 0, 1, 0, 1, 0, 1, 1, 1, 0, 0, 1],\n",
       " [0, 0, 1, 0, 1, 1, 0, 0, 1, 0, 1, 0, 0, 0],\n",
       " [1, 1, 0, 0, 1, 0, 0, 1, 0, 0, 0, 1, 0, 0],\n",
       " [0, 1, 0, 0, 1, 1, 0, 0, 1, 0, 0, 1, 0, 0],\n",
       " [0, 1, 0, 0, 0, 0, 1, 1, 1, 0, 0, 0, 0, 0],\n",
       " [0, 0, 0, 0, 0, 0, 0, 1, 1, 1, 0, 1, 0, 1],\n",
       " [1, 0, 0, 0, 1, 0, 0, 1, 1, 0, 0, 0, 1, 0]]"
      ]
     },
     "execution_count": 123,
     "metadata": {},
     "output_type": "execute_result"
    }
   ],
   "source": [
    "user_interest_vectors"
   ]
  },
  {
   "cell_type": "code",
   "execution_count": 168,
   "id": "sophisticated-telephone",
   "metadata": {},
   "outputs": [
    {
     "data": {
      "text/plain": [
       "[[0, 0, 0, 0, 0, 1, 0, 0, 0, 1],\n",
       " [1, 0, 0, 0, 0, 1, 1, 1, 0, 0],\n",
       " [0, 0, 0, 0, 1, 0, 0, 0, 0, 0],\n",
       " [0, 1, 1, 0, 0, 0, 0, 0, 0, 0],\n",
       " [1, 0, 1, 1, 1, 1, 1, 0, 0, 1],\n",
       " [0, 1, 1, 0, 1, 0, 1, 0, 0, 0],\n",
       " [0, 0, 0, 1, 0, 0, 0, 1, 0, 0],\n",
       " [1, 0, 0, 0, 0, 1, 0, 1, 1, 1],\n",
       " [1, 1, 1, 1, 1, 0, 1, 1, 1, 1],\n",
       " [0, 0, 0, 1, 0, 0, 0, 0, 1, 0],\n",
       " [0, 0, 0, 1, 1, 0, 0, 0, 0, 0],\n",
       " [0, 1, 1, 0, 0, 1, 1, 0, 1, 0],\n",
       " [0, 0, 0, 0, 0, 0, 0, 0, 0, 1],\n",
       " [0, 1, 0, 1, 0, 0, 0, 0, 1, 0]]"
      ]
     },
     "execution_count": 168,
     "metadata": {},
     "output_type": "execute_result"
    }
   ],
   "source": [
    "interest_user_matrix"
   ]
  },
  {
   "cell_type": "code",
   "execution_count": 184,
   "id": "random-springer",
   "metadata": {},
   "outputs": [],
   "source": [
    "interest_user_matrix=[[user_interest_vector[j]\n",
    "                      for user_interest_vector in user_interest_vectors]\n",
    "                     for j,_ in enumerate(unique_interests)]"
   ]
  },
  {
   "cell_type": "code",
   "execution_count": 165,
   "id": "regulated-ministry",
   "metadata": {},
   "outputs": [],
   "source": [
    "interest_user_matrixARRAY=np.array(interest_user_matrix)\n",
    "#interest_user_matrixARRAYRESHAPE=interest_user_matrixARRAY.reshape(1,-1)\n",
    "\n"
   ]
  },
  {
   "cell_type": "code",
   "execution_count": 170,
   "id": "prospective-astronomy",
   "metadata": {},
   "outputs": [
    {
     "data": {
      "text/plain": [
       "(14, 10)"
      ]
     },
     "execution_count": 170,
     "metadata": {},
     "output_type": "execute_result"
    }
   ],
   "source": [
    "interest_user_matrixARRAY.shape"
   ]
  },
  {
   "cell_type": "code",
   "execution_count": 146,
   "id": "traditional-prediction",
   "metadata": {},
   "outputs": [
    {
     "data": {
      "text/plain": [
       "array([[0, 0, 0, 0, 0, 1, 0, 0, 0, 1],\n",
       "       [1, 0, 0, 0, 0, 1, 1, 1, 0, 0],\n",
       "       [0, 0, 0, 0, 1, 0, 0, 0, 0, 0],\n",
       "       [0, 1, 1, 0, 0, 0, 0, 0, 0, 0],\n",
       "       [1, 0, 1, 1, 1, 1, 1, 0, 0, 1],\n",
       "       [0, 1, 1, 0, 1, 0, 1, 0, 0, 0],\n",
       "       [0, 0, 0, 1, 0, 0, 0, 1, 0, 0],\n",
       "       [1, 0, 0, 0, 0, 1, 0, 1, 1, 1],\n",
       "       [1, 1, 1, 1, 1, 0, 1, 1, 1, 1],\n",
       "       [0, 0, 0, 1, 0, 0, 0, 0, 1, 0],\n",
       "       [0, 0, 0, 1, 1, 0, 0, 0, 0, 0],\n",
       "       [0, 1, 1, 0, 0, 1, 1, 0, 1, 0],\n",
       "       [0, 0, 0, 0, 0, 0, 0, 0, 0, 1],\n",
       "       [0, 1, 0, 1, 0, 0, 0, 0, 1, 0]])"
      ]
     },
     "execution_count": 146,
     "metadata": {},
     "output_type": "execute_result"
    }
   ],
   "source": [
    "interest_user_matrixARRAY"
   ]
  },
  {
   "cell_type": "code",
   "execution_count": 185,
   "id": "extra-taiwan",
   "metadata": {},
   "outputs": [],
   "source": [
    "interest_similarities=[[1-sp.spatial.distance.cosine(user_vector_i,user_vector_j)\n",
    "                       for user_vector_j in interest_user_matrixARRAY]\n",
    "                      for user_vector_i in interest_user_matrixARRAY]"
   ]
  },
  {
   "cell_type": "code",
   "execution_count": 186,
   "id": "bronze-joining",
   "metadata": {
    "collapsed": true,
    "jupyter": {
     "outputs_hidden": true
    }
   },
   "outputs": [
    {
     "data": {
      "text/plain": [
       "[[1.0,\n",
       "  0.35355339059327373,\n",
       "  0.0,\n",
       "  0.0,\n",
       "  0.5345224838248488,\n",
       "  0.0,\n",
       "  0.0,\n",
       "  0.6324555320336759,\n",
       "  0.2357022603955159,\n",
       "  0.0,\n",
       "  0.0,\n",
       "  0.316227766016838,\n",
       "  0.7071067811865475,\n",
       "  0.0],\n",
       " [0.35355339059327373,\n",
       "  1.0,\n",
       "  0.0,\n",
       "  0.0,\n",
       "  0.5669467095138409,\n",
       "  0.25,\n",
       "  0.35355339059327373,\n",
       "  0.6708203932499369,\n",
       "  0.4999999999999999,\n",
       "  0.0,\n",
       "  0.0,\n",
       "  0.447213595499958,\n",
       "  0.0,\n",
       "  0.0],\n",
       " [0.0,\n",
       "  0.0,\n",
       "  1.0,\n",
       "  0.0,\n",
       "  0.3779644730092273,\n",
       "  0.5,\n",
       "  0.0,\n",
       "  0.0,\n",
       "  0.33333333333333326,\n",
       "  0.0,\n",
       "  0.7071067811865475,\n",
       "  0.0,\n",
       "  0.0,\n",
       "  0.0],\n",
       " [0.0,\n",
       "  0.0,\n",
       "  0.0,\n",
       "  1.0,\n",
       "  0.2672612419124244,\n",
       "  0.7071067811865475,\n",
       "  0.0,\n",
       "  0.0,\n",
       "  0.4714045207910317,\n",
       "  0.0,\n",
       "  0.0,\n",
       "  0.6324555320336759,\n",
       "  0.0,\n",
       "  0.40824829046386313],\n",
       " [0.5345224838248488,\n",
       "  0.5669467095138409,\n",
       "  0.3779644730092273,\n",
       "  0.2672612419124244,\n",
       "  1.0,\n",
       "  0.5669467095138409,\n",
       "  0.2672612419124244,\n",
       "  0.50709255283711,\n",
       "  0.7559289460184544,\n",
       "  0.2672612419124244,\n",
       "  0.5345224838248488,\n",
       "  0.50709255283711,\n",
       "  0.3779644730092273,\n",
       "  0.21821789023599236],\n",
       " [0.0,\n",
       "  0.25,\n",
       "  0.5,\n",
       "  0.7071067811865475,\n",
       "  0.5669467095138409,\n",
       "  1.0,\n",
       "  0.0,\n",
       "  0.0,\n",
       "  0.6666666666666666,\n",
       "  0.0,\n",
       "  0.35355339059327373,\n",
       "  0.6708203932499369,\n",
       "  0.0,\n",
       "  0.28867513459481287],\n",
       " [0.0,\n",
       "  0.35355339059327373,\n",
       "  0.0,\n",
       "  0.0,\n",
       "  0.2672612419124244,\n",
       "  0.0,\n",
       "  1.0,\n",
       "  0.316227766016838,\n",
       "  0.4714045207910317,\n",
       "  0.5,\n",
       "  0.5,\n",
       "  0.0,\n",
       "  0.0,\n",
       "  0.40824829046386313],\n",
       " [0.6324555320336759,\n",
       "  0.6708203932499369,\n",
       "  0.0,\n",
       "  0.0,\n",
       "  0.50709255283711,\n",
       "  0.0,\n",
       "  0.316227766016838,\n",
       "  1.0,\n",
       "  0.5962847939999439,\n",
       "  0.316227766016838,\n",
       "  0.0,\n",
       "  0.4,\n",
       "  0.447213595499958,\n",
       "  0.2581988897471612],\n",
       " [0.2357022603955159,\n",
       "  0.4999999999999999,\n",
       "  0.33333333333333326,\n",
       "  0.4714045207910317,\n",
       "  0.7559289460184544,\n",
       "  0.6666666666666666,\n",
       "  0.4714045207910317,\n",
       "  0.5962847939999439,\n",
       "  1.0,\n",
       "  0.4714045207910317,\n",
       "  0.4714045207910317,\n",
       "  0.5962847939999439,\n",
       "  0.33333333333333326,\n",
       "  0.5773502691896257],\n",
       " [0.0,\n",
       "  0.0,\n",
       "  0.0,\n",
       "  0.0,\n",
       "  0.2672612419124244,\n",
       "  0.0,\n",
       "  0.5,\n",
       "  0.316227766016838,\n",
       "  0.4714045207910317,\n",
       "  1.0,\n",
       "  0.5,\n",
       "  0.316227766016838,\n",
       "  0.0,\n",
       "  0.8164965809277261],\n",
       " [0.0,\n",
       "  0.0,\n",
       "  0.7071067811865475,\n",
       "  0.0,\n",
       "  0.5345224838248488,\n",
       "  0.35355339059327373,\n",
       "  0.5,\n",
       "  0.0,\n",
       "  0.4714045207910317,\n",
       "  0.5,\n",
       "  1.0,\n",
       "  0.0,\n",
       "  0.0,\n",
       "  0.40824829046386313],\n",
       " [0.316227766016838,\n",
       "  0.447213595499958,\n",
       "  0.0,\n",
       "  0.6324555320336759,\n",
       "  0.50709255283711,\n",
       "  0.6708203932499369,\n",
       "  0.0,\n",
       "  0.4,\n",
       "  0.5962847939999439,\n",
       "  0.316227766016838,\n",
       "  0.0,\n",
       "  1.0,\n",
       "  0.0,\n",
       "  0.5163977794943223],\n",
       " [0.7071067811865475,\n",
       "  0.0,\n",
       "  0.0,\n",
       "  0.0,\n",
       "  0.3779644730092273,\n",
       "  0.0,\n",
       "  0.0,\n",
       "  0.447213595499958,\n",
       "  0.33333333333333326,\n",
       "  0.0,\n",
       "  0.0,\n",
       "  0.0,\n",
       "  1.0,\n",
       "  0.0],\n",
       " [0.0,\n",
       "  0.0,\n",
       "  0.0,\n",
       "  0.40824829046386313,\n",
       "  0.21821789023599236,\n",
       "  0.28867513459481287,\n",
       "  0.40824829046386313,\n",
       "  0.2581988897471612,\n",
       "  0.5773502691896257,\n",
       "  0.8164965809277261,\n",
       "  0.40824829046386313,\n",
       "  0.5163977794943223,\n",
       "  0.0,\n",
       "  1.0]]"
      ]
     },
     "execution_count": 186,
     "metadata": {},
     "output_type": "execute_result"
    }
   ],
   "source": [
    "interest_similarities"
   ]
  },
  {
   "cell_type": "code",
   "execution_count": 187,
   "id": "quiet-restriction",
   "metadata": {},
   "outputs": [],
   "source": [
    "def most_similar_interests_to(interest_id: int):\n",
    "    similarities=interest_similarities[interest_id]\n",
    "    pairs=[(unique_interests[other_interest_id],similarity)\n",
    "          for other_interest_id,similarity in enumerate(similarities)\n",
    "          if interest_id !=other_interest_id and similarity>0]\n",
    "    return sorted(pairs, key=lambda pair:pair[-1],\n",
    "                 reverse=True)"
   ]
  },
  {
   "cell_type": "code",
   "execution_count": 189,
   "id": "numerical-procurement",
   "metadata": {},
   "outputs": [
    {
     "data": {
      "text/plain": [
       "[('shirts', 0.6708203932499369),\n",
       " ('hats', 0.5669467095138409),\n",
       " ('shoes', 0.4999999999999999),\n",
       " ('textbooks', 0.447213595499958),\n",
       " ('appliances', 0.35355339059327373),\n",
       " ('posters', 0.35355339059327373),\n",
       " ('laptops', 0.25)]"
      ]
     },
     "execution_count": 189,
     "metadata": {},
     "output_type": "execute_result"
    }
   ],
   "source": [
    "most_similar_interests_to(1)"
   ]
  },
  {
   "cell_type": "code",
   "execution_count": 194,
   "id": "buried-brisbane",
   "metadata": {},
   "outputs": [],
   "source": [
    "def item_based_suggestions(user_id: int,\n",
    "                          include_current_interests:bool =False):\n",
    "    #add up the similar interests\n",
    "    suggestions=defaultdict(float)\n",
    "    user_interest_vector=user_interest_vectors[user_id]\n",
    "    for interest_id, is_interested in enumerate(user_interest_vector):\n",
    "        if is_interested==1:\n",
    "            similar_interests=most_similar_interests_to(interest_id)\n",
    "            for interest, similarity in similar_interests:\n",
    "                suggestions[interest]+=similarity\n",
    "    #sort them by weight\n",
    "    suggestions =sorted(suggestions.items(),\n",
    "                       key=lambda pair: pair[-1],\n",
    "                       reverse=True)\n",
    "    if include_current_interests:\n",
    "        return suggestions\n",
    "    else:\n",
    "        return [(suggestion, weight)\n",
    "               for suggestion, weight in suggestions\n",
    "               if suggestion not in users_interests[user_id]]"
   ]
  },
  {
   "cell_type": "code",
   "execution_count": 201,
   "id": "nasty-steps",
   "metadata": {},
   "outputs": [
    {
     "data": {
      "text/plain": [
       "[('bicycles', 2.0913204933570513),\n",
       " ('textbooks', 1.8196051128538917),\n",
       " ('laptops', 1.2336133761805075),\n",
       " ('posters', 1.054893528720294),\n",
       " ('skateboards', 1.054893528720294),\n",
       " ('video games', 1.0537670491727793),\n",
       " ('sports equipment', 1.0059270046158804),\n",
       " ('fridges', 0.7386657627034561),\n",
       " ('fans', 0.7112978063425606)]"
      ]
     },
     "execution_count": 201,
     "metadata": {},
     "output_type": "execute_result"
    }
   ],
   "source": [
    "item_based_suggestions(9)"
   ]
  },
  {
   "cell_type": "code",
   "execution_count": 200,
   "id": "prescription-stuart",
   "metadata": {},
   "outputs": [
    {
     "data": {
      "text/plain": [
       "[['bicycles', 'hats', 'shoes', 'shirts'],\n",
       " ['fridges', 'video games', 'shoes', 'laptops', 'textbooks'],\n",
       " ['fridges', 'hats', 'shoes', 'laptops', 'textbooks'],\n",
       " ['sports equipment',\n",
       "  'video games',\n",
       "  'shoes',\n",
       "  'hats',\n",
       "  'posters',\n",
       "  'skateboards'],\n",
       " ['sports equipment', 'hats', 'shoes', 'laptops', 'fans'],\n",
       " ['bicycles', 'hats', 'appliances', 'shirts', 'appliances', 'textbooks'],\n",
       " ['bicycles', 'hats', 'shoes', 'laptops', 'textbooks'],\n",
       " ['bicycles', 'shirts', 'shoes', 'posters'],\n",
       " ['video games', 'shirts', 'shoes', 'textbooks', 'skateboards'],\n",
       " ['toiletries', 'hats', 'shoes', 'appliances', 'shirts']]"
      ]
     },
     "execution_count": 200,
     "metadata": {},
     "output_type": "execute_result"
    }
   ],
   "source": [
    "users_interests=[[\"bicycles\",\"hats\",\"shoes\",\"shirts\"],\n",
    "               [\"fridges\",\"video games\",\"shoes\",\"laptops\",\"textbooks\"],\n",
    "               [\"fridges\",\"hats\",\"shoes\",\"laptops\",\"textbooks\"],\n",
    "               [\"sports equipment\",\"video games\",\"shoes\",\"hats\",\"posters\",\"skateboards\"],\n",
    "               [\"sports equipment\",\"hats\",\"shoes\",\"laptops\",\"fans\"],\n",
    "               [\"bicycles\",\"hats\",\"appliances\",\"shirts\",\"appliances\",\"textbooks\"],\n",
    "               [\"bicycles\",\"hats\",\"shoes\",\"laptops\",\"textbooks\"],\n",
    "               [\"bicycles\",\"shirts\",\"shoes\",\"posters\"],\n",
    "               [\"video games\",\"shirts\",\"shoes\",\"textbooks\",\"skateboards\"],\n",
    "               [\"toiletries\",\"hats\",\"shoes\",\"appliances\",\"shirts\"]]"
   ]
  }
 ],
 "metadata": {
  "kernelspec": {
   "display_name": "Python 3",
   "language": "python",
   "name": "python3"
  },
  "language_info": {
   "codemirror_mode": {
    "name": "ipython",
    "version": 3
   },
   "file_extension": ".py",
   "mimetype": "text/x-python",
   "name": "python",
   "nbconvert_exporter": "python",
   "pygments_lexer": "ipython3",
   "version": "3.8.5"
  }
 },
 "nbformat": 4,
 "nbformat_minor": 5
}
